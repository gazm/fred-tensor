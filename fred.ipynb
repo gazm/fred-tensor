{
  "nbformat": 4,
  "nbformat_minor": 0,
  "metadata": {
    "colab": {
      "name": "fred.ipynb",
      "provenance": [],
      "authorship_tag": "ABX9TyPKEAR9RQpmhEbr5lhp3KyM",
      "include_colab_link": true
    },
    "kernelspec": {
      "name": "python3",
      "display_name": "Python 3"
    },
    "language_info": {
      "name": "python"
    }
  },
  "cells": [
    {
      "cell_type": "markdown",
      "metadata": {
        "id": "view-in-github",
        "colab_type": "text"
      },
      "source": [
        "<a href=\"https://colab.research.google.com/github/gazm/fred-tensor/blob/main/fred.ipynb\" target=\"_parent\"><img src=\"https://colab.research.google.com/assets/colab-badge.svg\" alt=\"Open In Colab\"/></a>"
      ]
    },
    {
      "cell_type": "code",
      "source": [
        "import tensorflow as tf\n",
        "import numpy as np\n",
        "import pandas as pd"
      ],
      "metadata": {
        "id": "37rJfAPoVDBb"
      },
      "execution_count": 2,
      "outputs": []
    },
    {
      "cell_type": "code",
      "source": [
        "api_key = '83667d6372bd3cbbce30d84933599c97'"
      ],
      "metadata": {
        "id": "1XrfRI-Tk9fh"
      },
      "execution_count": 3,
      "outputs": []
    },
    {
      "cell_type": "markdown",
      "source": [
        "list of datapoints to grab from FRED"
      ],
      "metadata": {
        "id": "xw4QSQTV5d37"
      }
    },
    {
      "cell_type": "code",
      "source": [
        "fred_datapoints = ['AUTHNOTT','USSTHPI','REAINTRATREARAT10Y','CPIAUCSL','M2SL','CDSP','ACTLISCOUUS']\n",
        "fred_datapoints.sort()"
      ],
      "metadata": {
        "id": "XGJ8zrhe5U2O"
      },
      "execution_count": 4,
      "outputs": []
    },
    {
      "cell_type": "markdown",
      "source": [
        "data fetch"
      ],
      "metadata": {
        "id": "P700viFXyzen"
      }
    },
    {
      "cell_type": "code",
      "source": [
        "import requests\n",
        "\n",
        "url = 'https://api.stlouisfed.org/fred/series/observations'"
      ],
      "metadata": {
        "id": "VwAqM4ch-z8M"
      },
      "execution_count": 5,
      "outputs": []
    },
    {
      "cell_type": "code",
      "source": [
        "fred_data = {'id':[],'data':[],'clean_data':[]}\n",
        "\n",
        "for id in fred_datapoints :\n",
        "  #fred_id = id\n",
        "  resp = requests.get(url=url, params={\n",
        "                      'series_id' : id,\n",
        "                      'api_key' : api_key,\n",
        "                      'file_type' : 'json'})\n",
        "  data = resp.json() # Check the JSON Response Content documentation below\n",
        "  clean = pd.json_normalize(data['observations']).drop(columns=['realtime_start','realtime_end'])\n",
        "  #clean.rename(columns={'value': id},inplace=True)\n",
        "  #clean['date'] = pd.to_datetime(clean['date'])\n",
        "  #clean_data = pd.to_numeric(clean[id],errors='coerce')\n",
        "  fred_data['id'].append(id)\n",
        "  fred_data['data'].append(clean)\n",
        "  #fred_data['clean_data'].append(clean_data)\n",
        "\n"
      ],
      "metadata": {
        "id": "5Lo1IkVp96v-"
      },
      "execution_count": 83,
      "outputs": []
    },
    {
      "cell_type": "markdown",
      "source": [
        "data cleanup"
      ],
      "metadata": {
        "id": "OlSl_nAwyvwF"
      }
    },
    {
      "cell_type": "code",
      "source": [
        "fred_data['clean_data'] = fred_data['data']\n",
        "\n",
        "for n in fred_data['clean_data'] :\n",
        "  clean_data = pd.DataFrame(pd.to_numeric(n['value'],errors='coerce'))\n",
        "  n['date'] = pd.to_datetime(n['date'])\n",
        "  clean_data['date'] = n['date']\n",
        "  clean_data.set_index('date', inplace=True)\n",
        "  df2.append(clean_data)\n",
        "  print(clean_data)\n",
        "  \n",
        "#  for i in fred_datapoints :\n",
        "#    clean_data.rename(columns={'value': i},inplace=True)\n",
        "#    print(clean_data)\n",
        "\n",
        "#print(df2)\n",
        "clean_data.info()\n",
        "\n"
      ],
      "metadata": {
        "colab": {
          "base_uri": "https://localhost:8080/"
        },
        "id": "36m81LGwmiKq",
        "outputId": "af1374cd-0bbe-4124-dcef-3fff3d6dbb1a"
      },
      "execution_count": 91,
      "outputs": [
        {
          "output_type": "stream",
          "name": "stdout",
          "text": [
            "                value\n",
            "date                 \n",
            "2016-07-01  1549830.0\n",
            "2016-08-01  1549040.0\n",
            "2016-09-01  1530171.0\n",
            "2016-10-01  1490405.0\n",
            "2016-11-01  1419028.0\n",
            "...               ...\n",
            "2021-11-01   553510.0\n",
            "2021-12-01   483266.0\n",
            "2022-01-01   408922.0\n",
            "2022-02-01   376018.0\n",
            "2022-03-01   381950.0\n",
            "\n",
            "[69 rows x 1 columns]\n",
            "            value\n",
            "date             \n",
            "1961-04-01   67.8\n",
            "1961-05-01    NaN\n",
            "1961-06-01    NaN\n",
            "1961-07-01   67.0\n",
            "1961-08-01    NaN\n",
            "...           ...\n",
            "2021-10-01  259.4\n",
            "2021-11-01  249.9\n",
            "2021-12-01  267.7\n",
            "2022-01-01  268.7\n",
            "2022-02-01  270.0\n",
            "\n",
            "[731 rows x 1 columns]\n",
            "               value\n",
            "date                \n",
            "1980-01-01  6.240027\n",
            "1980-04-01  6.151972\n",
            "1980-07-01  5.913000\n",
            "1980-10-01  5.740706\n",
            "1981-01-01  5.691433\n",
            "...              ...\n",
            "2020-10-01  5.444396\n",
            "2021-01-01  4.865958\n",
            "2021-04-01  5.326541\n",
            "2021-07-01  5.401836\n",
            "2021-10-01  5.494987\n",
            "\n",
            "[168 rows x 1 columns]\n",
            "              value\n",
            "date               \n",
            "1947-01-01   21.480\n",
            "1947-02-01   21.620\n",
            "1947-03-01   22.000\n",
            "1947-04-01   22.000\n",
            "1947-05-01   21.950\n",
            "...             ...\n",
            "2021-10-01  276.590\n",
            "2021-11-01  278.524\n",
            "2021-12-01  280.126\n",
            "2022-01-01  281.933\n",
            "2022-02-01  284.182\n",
            "\n",
            "[902 rows x 1 columns]\n",
            "              value\n",
            "date               \n",
            "1959-01-01    286.6\n",
            "1959-02-01    287.7\n",
            "1959-03-01    289.2\n",
            "1959-04-01    290.1\n",
            "1959-05-01    292.2\n",
            "...             ...\n",
            "2021-10-01  21200.5\n",
            "2021-11-01  21407.2\n",
            "2021-12-01  21553.1\n",
            "2022-01-01  21728.9\n",
            "2022-02-01  21811.8\n",
            "\n",
            "[758 rows x 1 columns]\n",
            "               value\n",
            "date                \n",
            "1982-01-01  7.623742\n",
            "1982-02-01  7.656648\n",
            "1982-03-01  7.128993\n",
            "1982-04-01  7.408347\n",
            "1982-05-01  7.320041\n",
            "...              ...\n",
            "2021-10-01  0.087901\n",
            "2021-11-01  0.163998\n",
            "2021-12-01  0.091689\n",
            "2022-01-01  0.319495\n",
            "2022-02-01  0.422006\n",
            "\n",
            "[482 rows x 1 columns]\n",
            "             value\n",
            "date              \n",
            "1975-01-01   60.01\n",
            "1975-04-01   60.96\n",
            "1975-07-01   61.15\n",
            "1975-10-01   62.24\n",
            "1976-01-01   62.88\n",
            "...            ...\n",
            "2020-10-01  473.21\n",
            "2021-01-01  484.35\n",
            "2021-04-01  511.06\n",
            "2021-07-01  539.58\n",
            "2021-10-01  557.73\n",
            "\n",
            "[188 rows x 1 columns]\n",
            "<class 'pandas.core.frame.DataFrame'>\n",
            "DatetimeIndex: 188 entries, 1975-01-01 to 2021-10-01\n",
            "Data columns (total 1 columns):\n",
            " #   Column  Non-Null Count  Dtype  \n",
            "---  ------  --------------  -----  \n",
            " 0   value   188 non-null    float64\n",
            "dtypes: float64(1)\n",
            "memory usage: 2.9 KB\n"
          ]
        }
      ]
    },
    {
      "cell_type": "code",
      "source": [
        "clean_data"
      ],
      "metadata": {
        "colab": {
          "base_uri": "https://localhost:8080/",
          "height": 455
        },
        "id": "MdHb5-faQL3c",
        "outputId": "286838f4-5aca-447b-f537-9e98902b324e"
      },
      "execution_count": 58,
      "outputs": [
        {
          "output_type": "execute_result",
          "data": {
            "text/plain": [
              "            ACTLISCOUUS\n",
              "date                   \n",
              "1975-01-01        60.01\n",
              "1975-04-01        60.96\n",
              "1975-07-01        61.15\n",
              "1975-10-01        62.24\n",
              "1976-01-01        62.88\n",
              "...                 ...\n",
              "2020-10-01       473.21\n",
              "2021-01-01       484.35\n",
              "2021-04-01       511.06\n",
              "2021-07-01       539.58\n",
              "2021-10-01       557.73\n",
              "\n",
              "[188 rows x 1 columns]"
            ],
            "text/html": [
              "\n",
              "  <div id=\"df-c305e2fb-1d7c-475d-8064-4923c04e27f0\">\n",
              "    <div class=\"colab-df-container\">\n",
              "      <div>\n",
              "<style scoped>\n",
              "    .dataframe tbody tr th:only-of-type {\n",
              "        vertical-align: middle;\n",
              "    }\n",
              "\n",
              "    .dataframe tbody tr th {\n",
              "        vertical-align: top;\n",
              "    }\n",
              "\n",
              "    .dataframe thead th {\n",
              "        text-align: right;\n",
              "    }\n",
              "</style>\n",
              "<table border=\"1\" class=\"dataframe\">\n",
              "  <thead>\n",
              "    <tr style=\"text-align: right;\">\n",
              "      <th></th>\n",
              "      <th>ACTLISCOUUS</th>\n",
              "    </tr>\n",
              "    <tr>\n",
              "      <th>date</th>\n",
              "      <th></th>\n",
              "    </tr>\n",
              "  </thead>\n",
              "  <tbody>\n",
              "    <tr>\n",
              "      <th>1975-01-01</th>\n",
              "      <td>60.01</td>\n",
              "    </tr>\n",
              "    <tr>\n",
              "      <th>1975-04-01</th>\n",
              "      <td>60.96</td>\n",
              "    </tr>\n",
              "    <tr>\n",
              "      <th>1975-07-01</th>\n",
              "      <td>61.15</td>\n",
              "    </tr>\n",
              "    <tr>\n",
              "      <th>1975-10-01</th>\n",
              "      <td>62.24</td>\n",
              "    </tr>\n",
              "    <tr>\n",
              "      <th>1976-01-01</th>\n",
              "      <td>62.88</td>\n",
              "    </tr>\n",
              "    <tr>\n",
              "      <th>...</th>\n",
              "      <td>...</td>\n",
              "    </tr>\n",
              "    <tr>\n",
              "      <th>2020-10-01</th>\n",
              "      <td>473.21</td>\n",
              "    </tr>\n",
              "    <tr>\n",
              "      <th>2021-01-01</th>\n",
              "      <td>484.35</td>\n",
              "    </tr>\n",
              "    <tr>\n",
              "      <th>2021-04-01</th>\n",
              "      <td>511.06</td>\n",
              "    </tr>\n",
              "    <tr>\n",
              "      <th>2021-07-01</th>\n",
              "      <td>539.58</td>\n",
              "    </tr>\n",
              "    <tr>\n",
              "      <th>2021-10-01</th>\n",
              "      <td>557.73</td>\n",
              "    </tr>\n",
              "  </tbody>\n",
              "</table>\n",
              "<p>188 rows × 1 columns</p>\n",
              "</div>\n",
              "      <button class=\"colab-df-convert\" onclick=\"convertToInteractive('df-c305e2fb-1d7c-475d-8064-4923c04e27f0')\"\n",
              "              title=\"Convert this dataframe to an interactive table.\"\n",
              "              style=\"display:none;\">\n",
              "        \n",
              "  <svg xmlns=\"http://www.w3.org/2000/svg\" height=\"24px\"viewBox=\"0 0 24 24\"\n",
              "       width=\"24px\">\n",
              "    <path d=\"M0 0h24v24H0V0z\" fill=\"none\"/>\n",
              "    <path d=\"M18.56 5.44l.94 2.06.94-2.06 2.06-.94-2.06-.94-.94-2.06-.94 2.06-2.06.94zm-11 1L8.5 8.5l.94-2.06 2.06-.94-2.06-.94L8.5 2.5l-.94 2.06-2.06.94zm10 10l.94 2.06.94-2.06 2.06-.94-2.06-.94-.94-2.06-.94 2.06-2.06.94z\"/><path d=\"M17.41 7.96l-1.37-1.37c-.4-.4-.92-.59-1.43-.59-.52 0-1.04.2-1.43.59L10.3 9.45l-7.72 7.72c-.78.78-.78 2.05 0 2.83L4 21.41c.39.39.9.59 1.41.59.51 0 1.02-.2 1.41-.59l7.78-7.78 2.81-2.81c.8-.78.8-2.07 0-2.86zM5.41 20L4 18.59l7.72-7.72 1.47 1.35L5.41 20z\"/>\n",
              "  </svg>\n",
              "      </button>\n",
              "      \n",
              "  <style>\n",
              "    .colab-df-container {\n",
              "      display:flex;\n",
              "      flex-wrap:wrap;\n",
              "      gap: 12px;\n",
              "    }\n",
              "\n",
              "    .colab-df-convert {\n",
              "      background-color: #E8F0FE;\n",
              "      border: none;\n",
              "      border-radius: 50%;\n",
              "      cursor: pointer;\n",
              "      display: none;\n",
              "      fill: #1967D2;\n",
              "      height: 32px;\n",
              "      padding: 0 0 0 0;\n",
              "      width: 32px;\n",
              "    }\n",
              "\n",
              "    .colab-df-convert:hover {\n",
              "      background-color: #E2EBFA;\n",
              "      box-shadow: 0px 1px 2px rgba(60, 64, 67, 0.3), 0px 1px 3px 1px rgba(60, 64, 67, 0.15);\n",
              "      fill: #174EA6;\n",
              "    }\n",
              "\n",
              "    [theme=dark] .colab-df-convert {\n",
              "      background-color: #3B4455;\n",
              "      fill: #D2E3FC;\n",
              "    }\n",
              "\n",
              "    [theme=dark] .colab-df-convert:hover {\n",
              "      background-color: #434B5C;\n",
              "      box-shadow: 0px 1px 3px 1px rgba(0, 0, 0, 0.15);\n",
              "      filter: drop-shadow(0px 1px 2px rgba(0, 0, 0, 0.3));\n",
              "      fill: #FFFFFF;\n",
              "    }\n",
              "  </style>\n",
              "\n",
              "      <script>\n",
              "        const buttonEl =\n",
              "          document.querySelector('#df-c305e2fb-1d7c-475d-8064-4923c04e27f0 button.colab-df-convert');\n",
              "        buttonEl.style.display =\n",
              "          google.colab.kernel.accessAllowed ? 'block' : 'none';\n",
              "\n",
              "        async function convertToInteractive(key) {\n",
              "          const element = document.querySelector('#df-c305e2fb-1d7c-475d-8064-4923c04e27f0');\n",
              "          const dataTable =\n",
              "            await google.colab.kernel.invokeFunction('convertToInteractive',\n",
              "                                                     [key], {});\n",
              "          if (!dataTable) return;\n",
              "\n",
              "          const docLinkHtml = 'Like what you see? Visit the ' +\n",
              "            '<a target=\"_blank\" href=https://colab.research.google.com/notebooks/data_table.ipynb>data table notebook</a>'\n",
              "            + ' to learn more about interactive tables.';\n",
              "          element.innerHTML = '';\n",
              "          dataTable['output_type'] = 'display_data';\n",
              "          await google.colab.output.renderOutput(dataTable, element);\n",
              "          const docLink = document.createElement('div');\n",
              "          docLink.innerHTML = docLinkHtml;\n",
              "          element.appendChild(docLink);\n",
              "        }\n",
              "      </script>\n",
              "    </div>\n",
              "  </div>\n",
              "  "
            ]
          },
          "metadata": {},
          "execution_count": 58
        }
      ]
    },
    {
      "cell_type": "code",
      "source": [
        "fred_data['clean_data']"
      ],
      "metadata": {
        "colab": {
          "base_uri": "https://localhost:8080/"
        },
        "id": "rWgwgdiAi4pb",
        "outputId": "87a6c3d4-ea32-409e-cb48-430b18fb1d34"
      },
      "execution_count": 50,
      "outputs": [
        {
          "output_type": "execute_result",
          "data": {
            "text/plain": [
              "[         date      value\n",
              " 0  2016-07-01  1549830.0\n",
              " 1  2016-08-01  1549040.0\n",
              " 2  2016-09-01  1530171.0\n",
              " 3  2016-10-01  1490405.0\n",
              " 4  2016-11-01  1419028.0\n",
              " ..        ...        ...\n",
              " 64 2021-11-01   553510.0\n",
              " 65 2021-12-01   483266.0\n",
              " 66 2022-01-01   408922.0\n",
              " 67 2022-02-01   376018.0\n",
              " 68 2022-03-01   381950.0\n",
              " \n",
              " [69 rows x 2 columns],           date  value\n",
              " 0   1961-04-01   67.8\n",
              " 1   1961-05-01      .\n",
              " 2   1961-06-01      .\n",
              " 3   1961-07-01   67.0\n",
              " 4   1961-08-01      .\n",
              " ..         ...    ...\n",
              " 726 2021-10-01  259.4\n",
              " 727 2021-11-01  249.9\n",
              " 728 2021-12-01  267.7\n",
              " 729 2022-01-01  268.7\n",
              " 730 2022-02-01  270.0\n",
              " \n",
              " [731 rows x 2 columns],           date     value\n",
              " 0   1980-01-01  6.240027\n",
              " 1   1980-04-01  6.151972\n",
              " 2   1980-07-01  5.913000\n",
              " 3   1980-10-01  5.740706\n",
              " 4   1981-01-01  5.691433\n",
              " ..         ...       ...\n",
              " 163 2020-10-01  5.444396\n",
              " 164 2021-01-01  4.865958\n",
              " 165 2021-04-01  5.326541\n",
              " 166 2021-07-01  5.401836\n",
              " 167 2021-10-01  5.494987\n",
              " \n",
              " [168 rows x 2 columns],           date    value\n",
              " 0   1947-01-01    21.48\n",
              " 1   1947-02-01    21.62\n",
              " 2   1947-03-01     22.0\n",
              " 3   1947-04-01     22.0\n",
              " 4   1947-05-01    21.95\n",
              " ..         ...      ...\n",
              " 897 2021-10-01  276.590\n",
              " 898 2021-11-01  278.524\n",
              " 899 2021-12-01  280.126\n",
              " 900 2022-01-01  281.933\n",
              " 901 2022-02-01  284.182\n",
              " \n",
              " [902 rows x 2 columns],           date    value\n",
              " 0   1959-01-01    286.6\n",
              " 1   1959-02-01    287.7\n",
              " 2   1959-03-01    289.2\n",
              " 3   1959-04-01    290.1\n",
              " 4   1959-05-01    292.2\n",
              " ..         ...      ...\n",
              " 753 2021-10-01  21200.5\n",
              " 754 2021-11-01  21407.2\n",
              " 755 2021-12-01  21553.1\n",
              " 756 2022-01-01  21728.9\n",
              " 757 2022-02-01  21811.8\n",
              " \n",
              " [758 rows x 2 columns],           date       value\n",
              " 0   1982-01-01  7.62374231\n",
              " 1   1982-02-01  7.65664807\n",
              " 2   1982-03-01  7.12899337\n",
              " 3   1982-04-01  7.40834717\n",
              " 4   1982-05-01  7.32004091\n",
              " ..         ...         ...\n",
              " 477 2021-10-01  0.08790114\n",
              " 478 2021-11-01  0.16399788\n",
              " 479 2021-12-01  0.09168917\n",
              " 480 2022-01-01   0.3194951\n",
              " 481 2022-02-01  0.42200624\n",
              " \n",
              " [482 rows x 2 columns],           date   value\n",
              " 0   1975-01-01   60.01\n",
              " 1   1975-04-01   60.96\n",
              " 2   1975-07-01   61.15\n",
              " 3   1975-10-01   62.24\n",
              " 4   1976-01-01   62.88\n",
              " ..         ...     ...\n",
              " 183 2020-10-01  473.21\n",
              " 184 2021-01-01  484.35\n",
              " 185 2021-04-01  511.06\n",
              " 186 2021-07-01  539.58\n",
              " 187 2021-10-01  557.73\n",
              " \n",
              " [188 rows x 2 columns]]"
            ]
          },
          "metadata": {},
          "execution_count": 50
        }
      ]
    },
    {
      "cell_type": "code",
      "source": [
        "fred_data['data']"
      ],
      "metadata": {
        "colab": {
          "base_uri": "https://localhost:8080/"
        },
        "id": "3WpB0grhaGxQ",
        "outputId": "084f7074-68b5-49a2-ed36-b5b96a70854b"
      },
      "execution_count": 10,
      "outputs": [
        {
          "output_type": "execute_result",
          "data": {
            "text/plain": [
              "[         date      value\n",
              " 0  2016-07-01  1549830.0\n",
              " 1  2016-08-01  1549040.0\n",
              " 2  2016-09-01  1530171.0\n",
              " 3  2016-10-01  1490405.0\n",
              " 4  2016-11-01  1419028.0\n",
              " ..        ...        ...\n",
              " 64 2021-11-01   553510.0\n",
              " 65 2021-12-01   483266.0\n",
              " 66 2022-01-01   408922.0\n",
              " 67 2022-02-01   376018.0\n",
              " 68 2022-03-01   381950.0\n",
              " \n",
              " [69 rows x 2 columns],           date  value\n",
              " 0   1961-04-01   67.8\n",
              " 1   1961-05-01      .\n",
              " 2   1961-06-01      .\n",
              " 3   1961-07-01   67.0\n",
              " 4   1961-08-01      .\n",
              " ..         ...    ...\n",
              " 726 2021-10-01  259.4\n",
              " 727 2021-11-01  249.9\n",
              " 728 2021-12-01  267.7\n",
              " 729 2022-01-01  268.7\n",
              " 730 2022-02-01  270.0\n",
              " \n",
              " [731 rows x 2 columns],           date     value\n",
              " 0   1980-01-01  6.240027\n",
              " 1   1980-04-01  6.151972\n",
              " 2   1980-07-01  5.913000\n",
              " 3   1980-10-01  5.740706\n",
              " 4   1981-01-01  5.691433\n",
              " ..         ...       ...\n",
              " 163 2020-10-01  5.444396\n",
              " 164 2021-01-01  4.865958\n",
              " 165 2021-04-01  5.326541\n",
              " 166 2021-07-01  5.401836\n",
              " 167 2021-10-01  5.494987\n",
              " \n",
              " [168 rows x 2 columns],           date    value\n",
              " 0   1947-01-01    21.48\n",
              " 1   1947-02-01    21.62\n",
              " 2   1947-03-01     22.0\n",
              " 3   1947-04-01     22.0\n",
              " 4   1947-05-01    21.95\n",
              " ..         ...      ...\n",
              " 897 2021-10-01  276.590\n",
              " 898 2021-11-01  278.524\n",
              " 899 2021-12-01  280.126\n",
              " 900 2022-01-01  281.933\n",
              " 901 2022-02-01  284.182\n",
              " \n",
              " [902 rows x 2 columns],           date    value\n",
              " 0   1959-01-01    286.6\n",
              " 1   1959-02-01    287.7\n",
              " 2   1959-03-01    289.2\n",
              " 3   1959-04-01    290.1\n",
              " 4   1959-05-01    292.2\n",
              " ..         ...      ...\n",
              " 753 2021-10-01  21200.5\n",
              " 754 2021-11-01  21407.2\n",
              " 755 2021-12-01  21553.1\n",
              " 756 2022-01-01  21728.9\n",
              " 757 2022-02-01  21811.8\n",
              " \n",
              " [758 rows x 2 columns],           date       value\n",
              " 0   1982-01-01  7.62374231\n",
              " 1   1982-02-01  7.65664807\n",
              " 2   1982-03-01  7.12899337\n",
              " 3   1982-04-01  7.40834717\n",
              " 4   1982-05-01  7.32004091\n",
              " ..         ...         ...\n",
              " 477 2021-10-01  0.08790114\n",
              " 478 2021-11-01  0.16399788\n",
              " 479 2021-12-01  0.09168917\n",
              " 480 2022-01-01   0.3194951\n",
              " 481 2022-02-01  0.42200624\n",
              " \n",
              " [482 rows x 2 columns],           date   value\n",
              " 0   1975-01-01   60.01\n",
              " 1   1975-04-01   60.96\n",
              " 2   1975-07-01   61.15\n",
              " 3   1975-10-01   62.24\n",
              " 4   1976-01-01   62.88\n",
              " ..         ...     ...\n",
              " 183 2020-10-01  473.21\n",
              " 184 2021-01-01  484.35\n",
              " 185 2021-04-01  511.06\n",
              " 186 2021-07-01  539.58\n",
              " 187 2021-10-01  557.73\n",
              " \n",
              " [188 rows x 2 columns]]"
            ]
          },
          "metadata": {},
          "execution_count": 10
        }
      ]
    },
    {
      "cell_type": "code",
      "source": [
        "df = pd.DataFrame(fred_data)"
      ],
      "metadata": {
        "id": "FCrdXbsFDGvJ"
      },
      "execution_count": 11,
      "outputs": []
    },
    {
      "cell_type": "code",
      "source": [
        "df"
      ],
      "metadata": {
        "colab": {
          "base_uri": "https://localhost:8080/",
          "height": 269
        },
        "id": "gYwoZq3AD6rV",
        "outputId": "00a685d5-a8ac-416a-d378-ed0a4c82232a"
      },
      "execution_count": 12,
      "outputs": [
        {
          "output_type": "execute_result",
          "data": {
            "text/plain": [
              "                   id                                               data  \\\n",
              "0         ACTLISCOUUS           date      value\n",
              "0  2016-07-01  154983...   \n",
              "1            AUTHNOTT            date  value\n",
              "0   1961-04-01   67.8\n",
              "1 ...   \n",
              "2                CDSP            date     value\n",
              "0   1980-01-01  6.240...   \n",
              "3            CPIAUCSL            date    value\n",
              "0   1947-01-01    21.4...   \n",
              "4                M2SL            date    value\n",
              "0   1959-01-01    286....   \n",
              "5  REAINTRATREARAT10Y            date       value\n",
              "0   1982-01-01  7.6...   \n",
              "6             USSTHPI            date   value\n",
              "0   1975-01-01   60.01\n",
              "...   \n",
              "\n",
              "                                          clean_data  \n",
              "0           date      value\n",
              "0  2016-07-01  154983...  \n",
              "1            date  value\n",
              "0   1961-04-01   67.8\n",
              "1 ...  \n",
              "2            date     value\n",
              "0   1980-01-01  6.240...  \n",
              "3            date    value\n",
              "0   1947-01-01    21.4...  \n",
              "4            date    value\n",
              "0   1959-01-01    286....  \n",
              "5            date       value\n",
              "0   1982-01-01  7.6...  \n",
              "6            date   value\n",
              "0   1975-01-01   60.01\n",
              "...  "
            ],
            "text/html": [
              "\n",
              "  <div id=\"df-4c157092-190e-4ac8-b93c-c1f7c0b6391d\">\n",
              "    <div class=\"colab-df-container\">\n",
              "      <div>\n",
              "<style scoped>\n",
              "    .dataframe tbody tr th:only-of-type {\n",
              "        vertical-align: middle;\n",
              "    }\n",
              "\n",
              "    .dataframe tbody tr th {\n",
              "        vertical-align: top;\n",
              "    }\n",
              "\n",
              "    .dataframe thead th {\n",
              "        text-align: right;\n",
              "    }\n",
              "</style>\n",
              "<table border=\"1\" class=\"dataframe\">\n",
              "  <thead>\n",
              "    <tr style=\"text-align: right;\">\n",
              "      <th></th>\n",
              "      <th>id</th>\n",
              "      <th>data</th>\n",
              "      <th>clean_data</th>\n",
              "    </tr>\n",
              "  </thead>\n",
              "  <tbody>\n",
              "    <tr>\n",
              "      <th>0</th>\n",
              "      <td>ACTLISCOUUS</td>\n",
              "      <td>date      value\n",
              "0  2016-07-01  154983...</td>\n",
              "      <td>date      value\n",
              "0  2016-07-01  154983...</td>\n",
              "    </tr>\n",
              "    <tr>\n",
              "      <th>1</th>\n",
              "      <td>AUTHNOTT</td>\n",
              "      <td>date  value\n",
              "0   1961-04-01   67.8\n",
              "1 ...</td>\n",
              "      <td>date  value\n",
              "0   1961-04-01   67.8\n",
              "1 ...</td>\n",
              "    </tr>\n",
              "    <tr>\n",
              "      <th>2</th>\n",
              "      <td>CDSP</td>\n",
              "      <td>date     value\n",
              "0   1980-01-01  6.240...</td>\n",
              "      <td>date     value\n",
              "0   1980-01-01  6.240...</td>\n",
              "    </tr>\n",
              "    <tr>\n",
              "      <th>3</th>\n",
              "      <td>CPIAUCSL</td>\n",
              "      <td>date    value\n",
              "0   1947-01-01    21.4...</td>\n",
              "      <td>date    value\n",
              "0   1947-01-01    21.4...</td>\n",
              "    </tr>\n",
              "    <tr>\n",
              "      <th>4</th>\n",
              "      <td>M2SL</td>\n",
              "      <td>date    value\n",
              "0   1959-01-01    286....</td>\n",
              "      <td>date    value\n",
              "0   1959-01-01    286....</td>\n",
              "    </tr>\n",
              "    <tr>\n",
              "      <th>5</th>\n",
              "      <td>REAINTRATREARAT10Y</td>\n",
              "      <td>date       value\n",
              "0   1982-01-01  7.6...</td>\n",
              "      <td>date       value\n",
              "0   1982-01-01  7.6...</td>\n",
              "    </tr>\n",
              "    <tr>\n",
              "      <th>6</th>\n",
              "      <td>USSTHPI</td>\n",
              "      <td>date   value\n",
              "0   1975-01-01   60.01\n",
              "...</td>\n",
              "      <td>date   value\n",
              "0   1975-01-01   60.01\n",
              "...</td>\n",
              "    </tr>\n",
              "  </tbody>\n",
              "</table>\n",
              "</div>\n",
              "      <button class=\"colab-df-convert\" onclick=\"convertToInteractive('df-4c157092-190e-4ac8-b93c-c1f7c0b6391d')\"\n",
              "              title=\"Convert this dataframe to an interactive table.\"\n",
              "              style=\"display:none;\">\n",
              "        \n",
              "  <svg xmlns=\"http://www.w3.org/2000/svg\" height=\"24px\"viewBox=\"0 0 24 24\"\n",
              "       width=\"24px\">\n",
              "    <path d=\"M0 0h24v24H0V0z\" fill=\"none\"/>\n",
              "    <path d=\"M18.56 5.44l.94 2.06.94-2.06 2.06-.94-2.06-.94-.94-2.06-.94 2.06-2.06.94zm-11 1L8.5 8.5l.94-2.06 2.06-.94-2.06-.94L8.5 2.5l-.94 2.06-2.06.94zm10 10l.94 2.06.94-2.06 2.06-.94-2.06-.94-.94-2.06-.94 2.06-2.06.94z\"/><path d=\"M17.41 7.96l-1.37-1.37c-.4-.4-.92-.59-1.43-.59-.52 0-1.04.2-1.43.59L10.3 9.45l-7.72 7.72c-.78.78-.78 2.05 0 2.83L4 21.41c.39.39.9.59 1.41.59.51 0 1.02-.2 1.41-.59l7.78-7.78 2.81-2.81c.8-.78.8-2.07 0-2.86zM5.41 20L4 18.59l7.72-7.72 1.47 1.35L5.41 20z\"/>\n",
              "  </svg>\n",
              "      </button>\n",
              "      \n",
              "  <style>\n",
              "    .colab-df-container {\n",
              "      display:flex;\n",
              "      flex-wrap:wrap;\n",
              "      gap: 12px;\n",
              "    }\n",
              "\n",
              "    .colab-df-convert {\n",
              "      background-color: #E8F0FE;\n",
              "      border: none;\n",
              "      border-radius: 50%;\n",
              "      cursor: pointer;\n",
              "      display: none;\n",
              "      fill: #1967D2;\n",
              "      height: 32px;\n",
              "      padding: 0 0 0 0;\n",
              "      width: 32px;\n",
              "    }\n",
              "\n",
              "    .colab-df-convert:hover {\n",
              "      background-color: #E2EBFA;\n",
              "      box-shadow: 0px 1px 2px rgba(60, 64, 67, 0.3), 0px 1px 3px 1px rgba(60, 64, 67, 0.15);\n",
              "      fill: #174EA6;\n",
              "    }\n",
              "\n",
              "    [theme=dark] .colab-df-convert {\n",
              "      background-color: #3B4455;\n",
              "      fill: #D2E3FC;\n",
              "    }\n",
              "\n",
              "    [theme=dark] .colab-df-convert:hover {\n",
              "      background-color: #434B5C;\n",
              "      box-shadow: 0px 1px 3px 1px rgba(0, 0, 0, 0.15);\n",
              "      filter: drop-shadow(0px 1px 2px rgba(0, 0, 0, 0.3));\n",
              "      fill: #FFFFFF;\n",
              "    }\n",
              "  </style>\n",
              "\n",
              "      <script>\n",
              "        const buttonEl =\n",
              "          document.querySelector('#df-4c157092-190e-4ac8-b93c-c1f7c0b6391d button.colab-df-convert');\n",
              "        buttonEl.style.display =\n",
              "          google.colab.kernel.accessAllowed ? 'block' : 'none';\n",
              "\n",
              "        async function convertToInteractive(key) {\n",
              "          const element = document.querySelector('#df-4c157092-190e-4ac8-b93c-c1f7c0b6391d');\n",
              "          const dataTable =\n",
              "            await google.colab.kernel.invokeFunction('convertToInteractive',\n",
              "                                                     [key], {});\n",
              "          if (!dataTable) return;\n",
              "\n",
              "          const docLinkHtml = 'Like what you see? Visit the ' +\n",
              "            '<a target=\"_blank\" href=https://colab.research.google.com/notebooks/data_table.ipynb>data table notebook</a>'\n",
              "            + ' to learn more about interactive tables.';\n",
              "          element.innerHTML = '';\n",
              "          dataTable['output_type'] = 'display_data';\n",
              "          await google.colab.output.renderOutput(dataTable, element);\n",
              "          const docLink = document.createElement('div');\n",
              "          docLink.innerHTML = docLinkHtml;\n",
              "          element.appendChild(docLink);\n",
              "        }\n",
              "      </script>\n",
              "    </div>\n",
              "  </div>\n",
              "  "
            ]
          },
          "metadata": {},
          "execution_count": 12
        }
      ]
    },
    {
      "cell_type": "code",
      "source": [
        "df['data'][0]"
      ],
      "metadata": {
        "colab": {
          "base_uri": "https://localhost:8080/",
          "height": 424
        },
        "id": "Uqn6Mb3-MXC1",
        "outputId": "b85280eb-c06e-4739-9747-34df06f045f2"
      },
      "execution_count": 13,
      "outputs": [
        {
          "output_type": "execute_result",
          "data": {
            "text/plain": [
              "         date      value\n",
              "0  2016-07-01  1549830.0\n",
              "1  2016-08-01  1549040.0\n",
              "2  2016-09-01  1530171.0\n",
              "3  2016-10-01  1490405.0\n",
              "4  2016-11-01  1419028.0\n",
              "..        ...        ...\n",
              "64 2021-11-01   553510.0\n",
              "65 2021-12-01   483266.0\n",
              "66 2022-01-01   408922.0\n",
              "67 2022-02-01   376018.0\n",
              "68 2022-03-01   381950.0\n",
              "\n",
              "[69 rows x 2 columns]"
            ],
            "text/html": [
              "\n",
              "  <div id=\"df-4e672e2c-2af0-40aa-832e-6a94313818e2\">\n",
              "    <div class=\"colab-df-container\">\n",
              "      <div>\n",
              "<style scoped>\n",
              "    .dataframe tbody tr th:only-of-type {\n",
              "        vertical-align: middle;\n",
              "    }\n",
              "\n",
              "    .dataframe tbody tr th {\n",
              "        vertical-align: top;\n",
              "    }\n",
              "\n",
              "    .dataframe thead th {\n",
              "        text-align: right;\n",
              "    }\n",
              "</style>\n",
              "<table border=\"1\" class=\"dataframe\">\n",
              "  <thead>\n",
              "    <tr style=\"text-align: right;\">\n",
              "      <th></th>\n",
              "      <th>date</th>\n",
              "      <th>value</th>\n",
              "    </tr>\n",
              "  </thead>\n",
              "  <tbody>\n",
              "    <tr>\n",
              "      <th>0</th>\n",
              "      <td>2016-07-01</td>\n",
              "      <td>1549830.0</td>\n",
              "    </tr>\n",
              "    <tr>\n",
              "      <th>1</th>\n",
              "      <td>2016-08-01</td>\n",
              "      <td>1549040.0</td>\n",
              "    </tr>\n",
              "    <tr>\n",
              "      <th>2</th>\n",
              "      <td>2016-09-01</td>\n",
              "      <td>1530171.0</td>\n",
              "    </tr>\n",
              "    <tr>\n",
              "      <th>3</th>\n",
              "      <td>2016-10-01</td>\n",
              "      <td>1490405.0</td>\n",
              "    </tr>\n",
              "    <tr>\n",
              "      <th>4</th>\n",
              "      <td>2016-11-01</td>\n",
              "      <td>1419028.0</td>\n",
              "    </tr>\n",
              "    <tr>\n",
              "      <th>...</th>\n",
              "      <td>...</td>\n",
              "      <td>...</td>\n",
              "    </tr>\n",
              "    <tr>\n",
              "      <th>64</th>\n",
              "      <td>2021-11-01</td>\n",
              "      <td>553510.0</td>\n",
              "    </tr>\n",
              "    <tr>\n",
              "      <th>65</th>\n",
              "      <td>2021-12-01</td>\n",
              "      <td>483266.0</td>\n",
              "    </tr>\n",
              "    <tr>\n",
              "      <th>66</th>\n",
              "      <td>2022-01-01</td>\n",
              "      <td>408922.0</td>\n",
              "    </tr>\n",
              "    <tr>\n",
              "      <th>67</th>\n",
              "      <td>2022-02-01</td>\n",
              "      <td>376018.0</td>\n",
              "    </tr>\n",
              "    <tr>\n",
              "      <th>68</th>\n",
              "      <td>2022-03-01</td>\n",
              "      <td>381950.0</td>\n",
              "    </tr>\n",
              "  </tbody>\n",
              "</table>\n",
              "<p>69 rows × 2 columns</p>\n",
              "</div>\n",
              "      <button class=\"colab-df-convert\" onclick=\"convertToInteractive('df-4e672e2c-2af0-40aa-832e-6a94313818e2')\"\n",
              "              title=\"Convert this dataframe to an interactive table.\"\n",
              "              style=\"display:none;\">\n",
              "        \n",
              "  <svg xmlns=\"http://www.w3.org/2000/svg\" height=\"24px\"viewBox=\"0 0 24 24\"\n",
              "       width=\"24px\">\n",
              "    <path d=\"M0 0h24v24H0V0z\" fill=\"none\"/>\n",
              "    <path d=\"M18.56 5.44l.94 2.06.94-2.06 2.06-.94-2.06-.94-.94-2.06-.94 2.06-2.06.94zm-11 1L8.5 8.5l.94-2.06 2.06-.94-2.06-.94L8.5 2.5l-.94 2.06-2.06.94zm10 10l.94 2.06.94-2.06 2.06-.94-2.06-.94-.94-2.06-.94 2.06-2.06.94z\"/><path d=\"M17.41 7.96l-1.37-1.37c-.4-.4-.92-.59-1.43-.59-.52 0-1.04.2-1.43.59L10.3 9.45l-7.72 7.72c-.78.78-.78 2.05 0 2.83L4 21.41c.39.39.9.59 1.41.59.51 0 1.02-.2 1.41-.59l7.78-7.78 2.81-2.81c.8-.78.8-2.07 0-2.86zM5.41 20L4 18.59l7.72-7.72 1.47 1.35L5.41 20z\"/>\n",
              "  </svg>\n",
              "      </button>\n",
              "      \n",
              "  <style>\n",
              "    .colab-df-container {\n",
              "      display:flex;\n",
              "      flex-wrap:wrap;\n",
              "      gap: 12px;\n",
              "    }\n",
              "\n",
              "    .colab-df-convert {\n",
              "      background-color: #E8F0FE;\n",
              "      border: none;\n",
              "      border-radius: 50%;\n",
              "      cursor: pointer;\n",
              "      display: none;\n",
              "      fill: #1967D2;\n",
              "      height: 32px;\n",
              "      padding: 0 0 0 0;\n",
              "      width: 32px;\n",
              "    }\n",
              "\n",
              "    .colab-df-convert:hover {\n",
              "      background-color: #E2EBFA;\n",
              "      box-shadow: 0px 1px 2px rgba(60, 64, 67, 0.3), 0px 1px 3px 1px rgba(60, 64, 67, 0.15);\n",
              "      fill: #174EA6;\n",
              "    }\n",
              "\n",
              "    [theme=dark] .colab-df-convert {\n",
              "      background-color: #3B4455;\n",
              "      fill: #D2E3FC;\n",
              "    }\n",
              "\n",
              "    [theme=dark] .colab-df-convert:hover {\n",
              "      background-color: #434B5C;\n",
              "      box-shadow: 0px 1px 3px 1px rgba(0, 0, 0, 0.15);\n",
              "      filter: drop-shadow(0px 1px 2px rgba(0, 0, 0, 0.3));\n",
              "      fill: #FFFFFF;\n",
              "    }\n",
              "  </style>\n",
              "\n",
              "      <script>\n",
              "        const buttonEl =\n",
              "          document.querySelector('#df-4e672e2c-2af0-40aa-832e-6a94313818e2 button.colab-df-convert');\n",
              "        buttonEl.style.display =\n",
              "          google.colab.kernel.accessAllowed ? 'block' : 'none';\n",
              "\n",
              "        async function convertToInteractive(key) {\n",
              "          const element = document.querySelector('#df-4e672e2c-2af0-40aa-832e-6a94313818e2');\n",
              "          const dataTable =\n",
              "            await google.colab.kernel.invokeFunction('convertToInteractive',\n",
              "                                                     [key], {});\n",
              "          if (!dataTable) return;\n",
              "\n",
              "          const docLinkHtml = 'Like what you see? Visit the ' +\n",
              "            '<a target=\"_blank\" href=https://colab.research.google.com/notebooks/data_table.ipynb>data table notebook</a>'\n",
              "            + ' to learn more about interactive tables.';\n",
              "          element.innerHTML = '';\n",
              "          dataTable['output_type'] = 'display_data';\n",
              "          await google.colab.output.renderOutput(dataTable, element);\n",
              "          const docLink = document.createElement('div');\n",
              "          docLink.innerHTML = docLinkHtml;\n",
              "          element.appendChild(docLink);\n",
              "        }\n",
              "      </script>\n",
              "    </div>\n",
              "  </div>\n",
              "  "
            ]
          },
          "metadata": {},
          "execution_count": 13
        }
      ]
    },
    {
      "cell_type": "markdown",
      "source": [
        "figure out cleanest way to merge api calls\n",
        "*   overlapping dates, reporting interval differences\n",
        "\n"
      ],
      "metadata": {
        "id": "_OV4JgME6SKS"
      }
    },
    {
      "cell_type": "code",
      "source": [
        "dfm = df['data'][0].merge(df['data'][1],on='date',how='outer').merge(df['data'][2],on='date',how='outer').merge(df['data'][3],on='date',how='outer').merge(df['data'][4],on='date',how='outer').merge(df['data'][5],on='date',how='outer').merge(df['data'][6],on='date',how='outer')"
      ],
      "metadata": {
        "colab": {
          "base_uri": "https://localhost:8080/"
        },
        "id": "dN4WgibvIppL",
        "outputId": "97e94c9c-c3e4-4f0f-e1a8-dda30df026d2"
      },
      "execution_count": 14,
      "outputs": [
        {
          "output_type": "stream",
          "name": "stderr",
          "text": [
            "/usr/local/lib/python3.7/dist-packages/pandas/core/frame.py:9203: FutureWarning: Passing 'suffixes' which cause duplicate columns {'value_x'} in the result is deprecated and will raise a MergeError in a future version.\n",
            "  validate=validate,\n"
          ]
        }
      ]
    },
    {
      "cell_type": "markdown",
      "source": [
        "this is fucking gross."
      ],
      "metadata": {
        "id": "CfEMh-00fkZW"
      }
    },
    {
      "cell_type": "code",
      "source": [
        "dfc = pd.concat([df['data'][0],df['data'][1],df['data'][2],df['data'][3],df['data'][4],df['data'][5],df['data'][6]], axis=1, sort=False, join='outer',verify_integrity=True).loc['1982-01-01':]"
      ],
      "metadata": {
        "colab": {
          "base_uri": "https://localhost:8080/",
          "height": 345
        },
        "id": "4TfpzUfGK9id",
        "outputId": "2d1a203c-93d8-4aaf-94ca-f85dadac9bbc"
      },
      "execution_count": 15,
      "outputs": [
        {
          "output_type": "error",
          "ename": "ValueError",
          "evalue": "ignored",
          "traceback": [
            "\u001b[0;31m---------------------------------------------------------------------------\u001b[0m",
            "\u001b[0;31mValueError\u001b[0m                                Traceback (most recent call last)",
            "\u001b[0;32m<ipython-input-15-1501b0825802>\u001b[0m in \u001b[0;36m<module>\u001b[0;34m()\u001b[0m\n\u001b[0;32m----> 1\u001b[0;31m \u001b[0mdfc\u001b[0m \u001b[0;34m=\u001b[0m \u001b[0mpd\u001b[0m\u001b[0;34m.\u001b[0m\u001b[0mconcat\u001b[0m\u001b[0;34m(\u001b[0m\u001b[0;34m[\u001b[0m\u001b[0mdf\u001b[0m\u001b[0;34m[\u001b[0m\u001b[0;34m'data'\u001b[0m\u001b[0;34m]\u001b[0m\u001b[0;34m[\u001b[0m\u001b[0;36m0\u001b[0m\u001b[0;34m]\u001b[0m\u001b[0;34m,\u001b[0m\u001b[0mdf\u001b[0m\u001b[0;34m[\u001b[0m\u001b[0;34m'data'\u001b[0m\u001b[0;34m]\u001b[0m\u001b[0;34m[\u001b[0m\u001b[0;36m1\u001b[0m\u001b[0;34m]\u001b[0m\u001b[0;34m,\u001b[0m\u001b[0mdf\u001b[0m\u001b[0;34m[\u001b[0m\u001b[0;34m'data'\u001b[0m\u001b[0;34m]\u001b[0m\u001b[0;34m[\u001b[0m\u001b[0;36m2\u001b[0m\u001b[0;34m]\u001b[0m\u001b[0;34m,\u001b[0m\u001b[0mdf\u001b[0m\u001b[0;34m[\u001b[0m\u001b[0;34m'data'\u001b[0m\u001b[0;34m]\u001b[0m\u001b[0;34m[\u001b[0m\u001b[0;36m3\u001b[0m\u001b[0;34m]\u001b[0m\u001b[0;34m,\u001b[0m\u001b[0mdf\u001b[0m\u001b[0;34m[\u001b[0m\u001b[0;34m'data'\u001b[0m\u001b[0;34m]\u001b[0m\u001b[0;34m[\u001b[0m\u001b[0;36m4\u001b[0m\u001b[0;34m]\u001b[0m\u001b[0;34m,\u001b[0m\u001b[0mdf\u001b[0m\u001b[0;34m[\u001b[0m\u001b[0;34m'data'\u001b[0m\u001b[0;34m]\u001b[0m\u001b[0;34m[\u001b[0m\u001b[0;36m5\u001b[0m\u001b[0;34m]\u001b[0m\u001b[0;34m,\u001b[0m\u001b[0mdf\u001b[0m\u001b[0;34m[\u001b[0m\u001b[0;34m'data'\u001b[0m\u001b[0;34m]\u001b[0m\u001b[0;34m[\u001b[0m\u001b[0;36m6\u001b[0m\u001b[0;34m]\u001b[0m\u001b[0;34m]\u001b[0m\u001b[0;34m,\u001b[0m \u001b[0maxis\u001b[0m\u001b[0;34m=\u001b[0m\u001b[0;36m1\u001b[0m\u001b[0;34m,\u001b[0m \u001b[0msort\u001b[0m\u001b[0;34m=\u001b[0m\u001b[0;32mFalse\u001b[0m\u001b[0;34m,\u001b[0m \u001b[0mjoin\u001b[0m\u001b[0;34m=\u001b[0m\u001b[0;34m'outer'\u001b[0m\u001b[0;34m,\u001b[0m\u001b[0mverify_integrity\u001b[0m\u001b[0;34m=\u001b[0m\u001b[0;32mTrue\u001b[0m\u001b[0;34m)\u001b[0m\u001b[0;34m.\u001b[0m\u001b[0mloc\u001b[0m\u001b[0;34m[\u001b[0m\u001b[0;34m'1982-01-01'\u001b[0m\u001b[0;34m:\u001b[0m\u001b[0;34m]\u001b[0m\u001b[0;34m\u001b[0m\u001b[0;34m\u001b[0m\u001b[0m\n\u001b[0m",
            "\u001b[0;32m/usr/local/lib/python3.7/dist-packages/pandas/util/_decorators.py\u001b[0m in \u001b[0;36mwrapper\u001b[0;34m(*args, **kwargs)\u001b[0m\n\u001b[1;32m    309\u001b[0m                     \u001b[0mstacklevel\u001b[0m\u001b[0;34m=\u001b[0m\u001b[0mstacklevel\u001b[0m\u001b[0;34m,\u001b[0m\u001b[0;34m\u001b[0m\u001b[0;34m\u001b[0m\u001b[0m\n\u001b[1;32m    310\u001b[0m                 )\n\u001b[0;32m--> 311\u001b[0;31m             \u001b[0;32mreturn\u001b[0m \u001b[0mfunc\u001b[0m\u001b[0;34m(\u001b[0m\u001b[0;34m*\u001b[0m\u001b[0margs\u001b[0m\u001b[0;34m,\u001b[0m \u001b[0;34m**\u001b[0m\u001b[0mkwargs\u001b[0m\u001b[0;34m)\u001b[0m\u001b[0;34m\u001b[0m\u001b[0;34m\u001b[0m\u001b[0m\n\u001b[0m\u001b[1;32m    312\u001b[0m \u001b[0;34m\u001b[0m\u001b[0m\n\u001b[1;32m    313\u001b[0m         \u001b[0;32mreturn\u001b[0m \u001b[0mwrapper\u001b[0m\u001b[0;34m\u001b[0m\u001b[0;34m\u001b[0m\u001b[0m\n",
            "\u001b[0;32m/usr/local/lib/python3.7/dist-packages/pandas/core/reshape/concat.py\u001b[0m in \u001b[0;36mconcat\u001b[0;34m(objs, axis, join, ignore_index, keys, levels, names, verify_integrity, sort, copy)\u001b[0m\n\u001b[1;32m    302\u001b[0m         \u001b[0mverify_integrity\u001b[0m\u001b[0;34m=\u001b[0m\u001b[0mverify_integrity\u001b[0m\u001b[0;34m,\u001b[0m\u001b[0;34m\u001b[0m\u001b[0;34m\u001b[0m\u001b[0m\n\u001b[1;32m    303\u001b[0m         \u001b[0mcopy\u001b[0m\u001b[0;34m=\u001b[0m\u001b[0mcopy\u001b[0m\u001b[0;34m,\u001b[0m\u001b[0;34m\u001b[0m\u001b[0;34m\u001b[0m\u001b[0m\n\u001b[0;32m--> 304\u001b[0;31m         \u001b[0msort\u001b[0m\u001b[0;34m=\u001b[0m\u001b[0msort\u001b[0m\u001b[0;34m,\u001b[0m\u001b[0;34m\u001b[0m\u001b[0;34m\u001b[0m\u001b[0m\n\u001b[0m\u001b[1;32m    305\u001b[0m     )\n\u001b[1;32m    306\u001b[0m \u001b[0;34m\u001b[0m\u001b[0m\n",
            "\u001b[0;32m/usr/local/lib/python3.7/dist-packages/pandas/core/reshape/concat.py\u001b[0m in \u001b[0;36m__init__\u001b[0;34m(self, objs, axis, join, keys, levels, names, ignore_index, verify_integrity, copy, sort)\u001b[0m\n\u001b[1;32m    477\u001b[0m         \u001b[0mself\u001b[0m\u001b[0;34m.\u001b[0m\u001b[0mcopy\u001b[0m \u001b[0;34m=\u001b[0m \u001b[0mcopy\u001b[0m\u001b[0;34m\u001b[0m\u001b[0;34m\u001b[0m\u001b[0m\n\u001b[1;32m    478\u001b[0m \u001b[0;34m\u001b[0m\u001b[0m\n\u001b[0;32m--> 479\u001b[0;31m         \u001b[0mself\u001b[0m\u001b[0;34m.\u001b[0m\u001b[0mnew_axes\u001b[0m \u001b[0;34m=\u001b[0m \u001b[0mself\u001b[0m\u001b[0;34m.\u001b[0m\u001b[0m_get_new_axes\u001b[0m\u001b[0;34m(\u001b[0m\u001b[0;34m)\u001b[0m\u001b[0;34m\u001b[0m\u001b[0;34m\u001b[0m\u001b[0m\n\u001b[0m\u001b[1;32m    480\u001b[0m \u001b[0;34m\u001b[0m\u001b[0m\n\u001b[1;32m    481\u001b[0m     \u001b[0;32mdef\u001b[0m \u001b[0mget_result\u001b[0m\u001b[0;34m(\u001b[0m\u001b[0mself\u001b[0m\u001b[0;34m)\u001b[0m\u001b[0;34m:\u001b[0m\u001b[0;34m\u001b[0m\u001b[0;34m\u001b[0m\u001b[0m\n",
            "\u001b[0;32m/usr/local/lib/python3.7/dist-packages/pandas/core/reshape/concat.py\u001b[0m in \u001b[0;36m_get_new_axes\u001b[0;34m(self)\u001b[0m\n\u001b[1;32m    549\u001b[0m         return [\n\u001b[1;32m    550\u001b[0m             \u001b[0mself\u001b[0m\u001b[0;34m.\u001b[0m\u001b[0m_get_concat_axis\u001b[0m \u001b[0;32mif\u001b[0m \u001b[0mi\u001b[0m \u001b[0;34m==\u001b[0m \u001b[0mself\u001b[0m\u001b[0;34m.\u001b[0m\u001b[0mbm_axis\u001b[0m \u001b[0;32melse\u001b[0m \u001b[0mself\u001b[0m\u001b[0;34m.\u001b[0m\u001b[0m_get_comb_axis\u001b[0m\u001b[0;34m(\u001b[0m\u001b[0mi\u001b[0m\u001b[0;34m)\u001b[0m\u001b[0;34m\u001b[0m\u001b[0;34m\u001b[0m\u001b[0m\n\u001b[0;32m--> 551\u001b[0;31m             \u001b[0;32mfor\u001b[0m \u001b[0mi\u001b[0m \u001b[0;32min\u001b[0m \u001b[0mrange\u001b[0m\u001b[0;34m(\u001b[0m\u001b[0mndim\u001b[0m\u001b[0;34m)\u001b[0m\u001b[0;34m\u001b[0m\u001b[0;34m\u001b[0m\u001b[0m\n\u001b[0m\u001b[1;32m    552\u001b[0m         ]\n\u001b[1;32m    553\u001b[0m \u001b[0;34m\u001b[0m\u001b[0m\n",
            "\u001b[0;32m/usr/local/lib/python3.7/dist-packages/pandas/core/reshape/concat.py\u001b[0m in \u001b[0;36m<listcomp>\u001b[0;34m(.0)\u001b[0m\n\u001b[1;32m    549\u001b[0m         return [\n\u001b[1;32m    550\u001b[0m             \u001b[0mself\u001b[0m\u001b[0;34m.\u001b[0m\u001b[0m_get_concat_axis\u001b[0m \u001b[0;32mif\u001b[0m \u001b[0mi\u001b[0m \u001b[0;34m==\u001b[0m \u001b[0mself\u001b[0m\u001b[0;34m.\u001b[0m\u001b[0mbm_axis\u001b[0m \u001b[0;32melse\u001b[0m \u001b[0mself\u001b[0m\u001b[0;34m.\u001b[0m\u001b[0m_get_comb_axis\u001b[0m\u001b[0;34m(\u001b[0m\u001b[0mi\u001b[0m\u001b[0;34m)\u001b[0m\u001b[0;34m\u001b[0m\u001b[0;34m\u001b[0m\u001b[0m\n\u001b[0;32m--> 551\u001b[0;31m             \u001b[0;32mfor\u001b[0m \u001b[0mi\u001b[0m \u001b[0;32min\u001b[0m \u001b[0mrange\u001b[0m\u001b[0;34m(\u001b[0m\u001b[0mndim\u001b[0m\u001b[0;34m)\u001b[0m\u001b[0;34m\u001b[0m\u001b[0;34m\u001b[0m\u001b[0m\n\u001b[0m\u001b[1;32m    552\u001b[0m         ]\n\u001b[1;32m    553\u001b[0m \u001b[0;34m\u001b[0m\u001b[0m\n",
            "\u001b[0;32m/usr/local/lib/python3.7/dist-packages/pandas/_libs/properties.pyx\u001b[0m in \u001b[0;36mpandas._libs.properties.CachedProperty.__get__\u001b[0;34m()\u001b[0m\n",
            "\u001b[0;32m/usr/local/lib/python3.7/dist-packages/pandas/core/reshape/concat.py\u001b[0m in \u001b[0;36m_get_concat_axis\u001b[0;34m(self)\u001b[0m\n\u001b[1;32m    609\u001b[0m             )\n\u001b[1;32m    610\u001b[0m \u001b[0;34m\u001b[0m\u001b[0m\n\u001b[0;32m--> 611\u001b[0;31m         \u001b[0mself\u001b[0m\u001b[0;34m.\u001b[0m\u001b[0m_maybe_check_integrity\u001b[0m\u001b[0;34m(\u001b[0m\u001b[0mconcat_axis\u001b[0m\u001b[0;34m)\u001b[0m\u001b[0;34m\u001b[0m\u001b[0;34m\u001b[0m\u001b[0m\n\u001b[0m\u001b[1;32m    612\u001b[0m \u001b[0;34m\u001b[0m\u001b[0m\n\u001b[1;32m    613\u001b[0m         \u001b[0;32mreturn\u001b[0m \u001b[0mconcat_axis\u001b[0m\u001b[0;34m\u001b[0m\u001b[0;34m\u001b[0m\u001b[0m\n",
            "\u001b[0;32m/usr/local/lib/python3.7/dist-packages/pandas/core/reshape/concat.py\u001b[0m in \u001b[0;36m_maybe_check_integrity\u001b[0;34m(self, concat_index)\u001b[0m\n\u001b[1;32m    617\u001b[0m             \u001b[0;32mif\u001b[0m \u001b[0;32mnot\u001b[0m \u001b[0mconcat_index\u001b[0m\u001b[0;34m.\u001b[0m\u001b[0mis_unique\u001b[0m\u001b[0;34m:\u001b[0m\u001b[0;34m\u001b[0m\u001b[0;34m\u001b[0m\u001b[0m\n\u001b[1;32m    618\u001b[0m                 \u001b[0moverlap\u001b[0m \u001b[0;34m=\u001b[0m \u001b[0mconcat_index\u001b[0m\u001b[0;34m[\u001b[0m\u001b[0mconcat_index\u001b[0m\u001b[0;34m.\u001b[0m\u001b[0mduplicated\u001b[0m\u001b[0;34m(\u001b[0m\u001b[0;34m)\u001b[0m\u001b[0;34m]\u001b[0m\u001b[0;34m.\u001b[0m\u001b[0munique\u001b[0m\u001b[0;34m(\u001b[0m\u001b[0;34m)\u001b[0m\u001b[0;34m\u001b[0m\u001b[0;34m\u001b[0m\u001b[0m\n\u001b[0;32m--> 619\u001b[0;31m                 \u001b[0;32mraise\u001b[0m \u001b[0mValueError\u001b[0m\u001b[0;34m(\u001b[0m\u001b[0;34mf\"Indexes have overlapping values: {overlap}\"\u001b[0m\u001b[0;34m)\u001b[0m\u001b[0;34m\u001b[0m\u001b[0;34m\u001b[0m\u001b[0m\n\u001b[0m\u001b[1;32m    620\u001b[0m \u001b[0;34m\u001b[0m\u001b[0m\n\u001b[1;32m    621\u001b[0m \u001b[0;34m\u001b[0m\u001b[0m\n",
            "\u001b[0;31mValueError\u001b[0m: Indexes have overlapping values: Index(['date', 'value'], dtype='object')"
          ]
        }
      ]
    },
    {
      "cell_type": "code",
      "source": [
        "dfs = df['data'][0].join([df['data'][1:]], how='outer', on='date')"
      ],
      "metadata": {
        "id": "Jo2ijWQJ9R-4"
      },
      "execution_count": null,
      "outputs": []
    },
    {
      "cell_type": "code",
      "source": [
        "dfm"
      ],
      "metadata": {
        "id": "nPzxHHnKC3PM"
      },
      "execution_count": null,
      "outputs": []
    },
    {
      "cell_type": "code",
      "source": [
        "print(dfc['M2SL'].iloc[1])"
      ],
      "metadata": {
        "id": "Llsarhf1ncyd"
      },
      "execution_count": null,
      "outputs": []
    },
    {
      "cell_type": "code",
      "source": [
        ""
      ],
      "metadata": {
        "id": "R9MaIs2qaXR5"
      },
      "execution_count": null,
      "outputs": []
    },
    {
      "cell_type": "markdown",
      "source": [
        "start in 1982"
      ],
      "metadata": {
        "id": "I_rjgSQXgS2A"
      }
    },
    {
      "cell_type": "code",
      "source": [
        "dfc.loc['1982-01-01':]"
      ],
      "metadata": {
        "id": "xITg4Y4x79ii"
      },
      "execution_count": null,
      "outputs": []
    },
    {
      "cell_type": "code",
      "source": [
        "dfc.info()"
      ],
      "metadata": {
        "id": "3VH4FE8R25wQ"
      },
      "execution_count": null,
      "outputs": []
    },
    {
      "cell_type": "markdown",
      "source": [
        "# Visuals"
      ],
      "metadata": {
        "id": "iIZnpojho8aF"
      }
    },
    {
      "cell_type": "code",
      "source": [
        "import matplotlib.pyplot as plt\n",
        "\n",
        "import seaborn as sns"
      ],
      "metadata": {
        "id": "BWjhSgEnfeEK"
      },
      "execution_count": null,
      "outputs": []
    },
    {
      "cell_type": "code",
      "source": [
        "plt.plot(dfc,dfc['AUTHNOTT'])"
      ],
      "metadata": {
        "id": "5fNm2A8NqBeA"
      },
      "execution_count": null,
      "outputs": []
    },
    {
      "cell_type": "markdown",
      "source": [
        "# **Merge data into dataframe**"
      ],
      "metadata": {
        "id": "qSnPwkjScBfg"
      }
    }
  ]
}